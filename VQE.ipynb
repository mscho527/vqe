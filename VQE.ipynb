{
  "nbformat": 4,
  "nbformat_minor": 0,
  "metadata": {
    "colab": {
      "name": "VQE",
      "provenance": [],
      "collapsed_sections": []
    },
    "kernelspec": {
      "name": "python3",
      "display_name": "Python 3"
    }
  },
  "cells": [
    {
      "cell_type": "markdown",
      "metadata": {
        "id": "uQT9vDKfMBQN",
        "colab_type": "text"
      },
      "source": [
        "##QOSF Quantum Computing Mentorship Program Screening Task #4\n",
        "\n",
        "This notebook has been prepared as a response to the fourth task of the screening task fo the [Quantum Computing Mentorship Program](https://qosf.org/qc_mentorship). It is based on Davit Khachatryan's [tutorial](https://github.com/DavitKhach/quantum-algorithms-tutorials/blob/master/variational_quantum_eigensolver.ipynb)."
      ]
    },
    {
      "cell_type": "markdown",
      "metadata": {
        "id": "Zh6IwdpVM2U7",
        "colab_type": "text"
      },
      "source": [
        "####Task Description\n",
        "\n",
        "*Following has been copied directly from the task statement:*\n",
        "\n",
        ">Find the lowest eigenvalue of the following matrix:\n",
        ">\n",
        ">[1 0 0 0; 0 0 -1 0; 0 -1 0 0; 0 0 0 1]\n",
        ">\n",
        ">using VQE-like circuits, created by yourself from scratch.\n"
      ]
    },
    {
      "cell_type": "markdown",
      "metadata": {
        "id": "VlKCjit0MnQU",
        "colab_type": "text"
      },
      "source": [
        "#### Imports\n",
        "Before starting the main content, import Python libraries that will be used throughout this notebook."
      ]
    },
    {
      "cell_type": "code",
      "metadata": {
        "id": "UEDLazX1KYDY",
        "colab_type": "code",
        "colab": {}
      },
      "source": [
        "# Install qiskit on Colaboratory\n",
        "!pip install -q qiskit"
      ],
      "execution_count": 1,
      "outputs": []
    },
    {
      "cell_type": "code",
      "metadata": {
        "id": "nqwJsQpiL_kj",
        "colab_type": "code",
        "colab": {}
      },
      "source": [
        "import numpy\n",
        "from qiskit import *\n",
        "from qiskit.circuit.library.standard_gates import U2Gate\n",
        "import matplotlib.pyplot as plt"
      ],
      "execution_count": 2,
      "outputs": []
    },
    {
      "cell_type": "markdown",
      "metadata": {
        "id": "G3nLphHjNvYl",
        "colab_type": "text"
      },
      "source": [
        "#### Two Qubit Operators\n",
        "\n",
        "Because the target Hamiltonian is defined for two-qubit system, it makes sense to calculate the two qubit operators before attempting to decompose the target Hamiltonian.\n",
        "\n",
        "First, start with single qubit operators which are defined as following:\n",
        "\n",
        "\\begin{align}\n",
        "I &= \\begin{bmatrix}1 & 0 \\\\\n",
        "                    0 & 1 \\end{bmatrix}\\\\\\\n",
        "X &= \\begin{bmatrix}0 & 1 \\\\\n",
        "                    1 & 0 \\end{bmatrix}\\\\\\\n",
        "Y &= \\begin{bmatrix}0 & -i \\\\\n",
        "                    i & 0 \\end{bmatrix}\\\\\\\n",
        "Z &= \\begin{bmatrix}1 & 0 \\\\\n",
        "                    0 & -1 \\end{bmatrix}\n",
        "\\end{align}\n",
        "\n",
        "In order to construct two-qubit versions of these gates $II, XX, YY, ZZ$, tensor multiplications need to be performed.\n",
        "\n",
        "\\begin{align}\n",
        "II &= I \\otimes I \\\\\n",
        "   &= \\begin{bmatrix}\n",
        "      1 \\begin{bmatrix} 1 & 0 \\\\ 0 & 1 \\end{bmatrix} &\n",
        "      0 \\begin{bmatrix} 1 & 0 \\\\ 0 & 1 \\end{bmatrix} \\\\\n",
        "      0 \\begin{bmatrix} 1 & 0 \\\\ 0 & 1 \\end{bmatrix} &\n",
        "      1 \\begin{bmatrix} 1 & 0 \\\\ 0 & 1 \\end{bmatrix}\n",
        "      \\end{bmatrix} \\\\\n",
        "   &= \\begin{bmatrix}\n",
        "      1 & 0 & 0 & 0 \\\\\n",
        "      0 & 1 & 0 & 0 \\\\\n",
        "      0 & 0 & 1 & 0 \\\\\n",
        "      0 & 0 & 0 & 1\n",
        "      \\end{bmatrix}\n",
        "\\\\\n",
        "XX &= X \\otimes X \\\\\n",
        "   &= \\begin{bmatrix}\n",
        "      0 \\begin{bmatrix} 0 & 1 \\\\ 1 & 0 \\end{bmatrix} &\n",
        "      1 \\begin{bmatrix} 0 & 1 \\\\ 1 & 0 \\end{bmatrix} \\\\\n",
        "      1 \\begin{bmatrix} 0 & 1 \\\\ 1 & 0 \\end{bmatrix} &\n",
        "      0 \\begin{bmatrix} 0 & 1 \\\\ 1 & 0 \\end{bmatrix}\n",
        "      \\end{bmatrix} \\\\\n",
        "   &= \\begin{bmatrix}\n",
        "      0 & 0 & 0 & 1 \\\\\n",
        "      0 & 0 & 1 & 0 \\\\\n",
        "      0 & 1 & 0 & 0 \\\\\n",
        "      1 & 0 & 0 & 0\n",
        "      \\end{bmatrix}\n",
        "\\\\\n",
        "YY &= Y \\otimes Y \\\\\n",
        "   &= \\begin{bmatrix}\n",
        "      0 \\begin{bmatrix} 0 & -i \\\\ i & 0 \\end{bmatrix} &\n",
        "      -i\\begin{bmatrix} 0 & -i \\\\ i & 0 \\end{bmatrix} \\\\\n",
        "      i \\begin{bmatrix} 0 & -i \\\\ i & 0 \\end{bmatrix} &\n",
        "      0 \\begin{bmatrix} 0 & -i \\\\ i & 0 \\end{bmatrix}\n",
        "      \\end{bmatrix} \\\\\n",
        "   &= \\begin{bmatrix}\n",
        "      0 & 0 & 0 & -1 \\\\\n",
        "      0 & 0 & 1 & 0 \\\\\n",
        "      0 & 1 & 0 & 0 \\\\\n",
        "      -1 & 0 & 0 & 0\n",
        "      \\end{bmatrix}\n",
        "\\\\\n",
        "ZZ &= Z \\otimes Z \\\\\n",
        "   &= \\begin{bmatrix}\n",
        "      1 \\begin{bmatrix} 1 & 0 \\\\ 0 & -1 \\end{bmatrix} &\n",
        "      0 \\begin{bmatrix} 1 & 0 \\\\ 0 & -1 \\end{bmatrix} \\\\\n",
        "      0 \\begin{bmatrix} 1 & 0 \\\\ 0 & -1 \\end{bmatrix} &\n",
        "      -1\\begin{bmatrix} 1 & 0 \\\\ 0 & -1 \\end{bmatrix}\n",
        "      \\end{bmatrix} \\\\\n",
        "   &= \\begin{bmatrix}\n",
        "      1 & 0 & 0 & 0 \\\\\n",
        "      0 & -1 & 0 & 0 \\\\\n",
        "      0 & 0 & -1 & 0 \\\\\n",
        "      0 & 0 & 0 & 1\n",
        "      \\end{bmatrix}\n",
        "\\end{align}"
      ]
    },
    {
      "cell_type": "code",
      "metadata": {
        "id": "yVJwf9rROe9r",
        "colab_type": "code",
        "colab": {}
      },
      "source": [
        "# Declare one-qubit gates\n",
        "identity = numpy.identity(2)\n",
        "x = numpy.array([[0, 1],[1, 0]])\n",
        "y = numpy.array([[0, 0+-1j], [0+1j, 0]], dtype=complex)\n",
        "z = numpy.array([[1, 0],[0, -1]])\n",
        "\n",
        "# Two qubit version of the gates\n",
        "II = numpy.kron(identity, identity)\n",
        "XX = numpy.kron(x, x)\n",
        "YY = numpy.real(numpy.kron(y, y))\n",
        "ZZ = numpy.kron(z, z)"
      ],
      "execution_count": 3,
      "outputs": []
    },
    {
      "cell_type": "markdown",
      "metadata": {
        "id": "yaK-UKoniLOz",
        "colab_type": "text"
      },
      "source": [
        "#### Decomposing Hamiltonian Matrix\n",
        "\n",
        "Based on the two-qubit operators that were determined above, it is fairly straightforward to use these to decompose the Hamiltonian matrix. First note that the given Hamiltonian matrix $\\mathcal{H}$ is expressed as:\n",
        "\n",
        "\\begin{align}\n",
        "\\mathcal{H} &= \\begin{bmatrix}1 & 0 & 0 & 0\\\\\n",
        "                              0 & 0 & -1 & 0\\\\\n",
        "                              0 & -1 & 0 & 0\\\\\n",
        "                              0 & 0 & 0 & 1 \\end{bmatrix}\n",
        "\\end{align}\n",
        "\n",
        "Because we know from the hint that the coefficients $c$ assigned to the decomposed form is among $\\{-1, -\\frac{1}{2}, 0, \\frac{1}{2}, 1\\}$, the decomposition is fairly simple and is equivalent to merely solving system of linear equations.\n",
        "\n",
        "From $\\mathcal{H}_{11}$, $c_{II}+c_{ZZ}=\\mathcal{H}_{11}=1$ \\\\\n",
        "From $\\mathcal{H}_{14}$, $c_{XX}-c_{YY}=\\mathcal{H}_{14}=0$ \\\\\n",
        "From $\\mathcal{H}_{22}$, $c_{II}-c_{ZZ}=\\mathcal{H}_{22}=0$ \\\\\n",
        "From $\\mathcal{H}_{23}$, $c_{XX}+c_{YY}=\\mathcal{H}_{23}=-1$\n",
        "\n",
        "Solving the system of linear equations, solution of $\\{c_{II}, c_{XX}, c_{YY}, c_{ZZ}\\} = \\{\\frac{1}{2}, -\\frac{1}{2}, -\\frac{1}{2}, \\frac{1}{2}\\}$ is obtained. Therefore, this is the decomposed form of the given Hamiltonian:\n",
        "\n",
        "\\begin{align}\n",
        "\\mathcal{H} = \\frac{1}{2} I_1 \\otimes I_2 - \\frac{1}{2} X_1 \\otimes X_2 - \\frac{1}{2} Y_1 \\otimes\\ Y_2 + \\frac{1}{2} Z_1 \\otimes Z_2\n",
        "\\end{align}\n"
      ]
    },
    {
      "cell_type": "code",
      "metadata": {
        "id": "_267wq7CKKuz",
        "colab_type": "code",
        "colab": {}
      },
      "source": [
        "# Declare given Hamiltonian\n",
        "hamil = numpy.array([[1, 0, 0, 0],[0, 0, -1, 0],[0, -1, 0, 0],[0, 0, 0, 1]])"
      ],
      "execution_count": 4,
      "outputs": []
    },
    {
      "cell_type": "markdown",
      "metadata": {
        "id": "er-MNGBCIdFA",
        "colab_type": "text"
      },
      "source": [
        "#### Expectation Value of Two-qubit Operators\n",
        "\n",
        "Now, let's evaluate the expectation values of the two-qubit operators used in the decomposed form in respect to a general wavefunction:\n",
        "\\begin{align}\n",
        "\\psi &= \\begin{bmatrix}a \\\\ b \\\\ c \\\\ d \\end{bmatrix}\n",
        "\\end{align}\n",
        "\n",
        "For $I_1 \\otimes I_2$, \\\\\n",
        "\\begin{align}\n",
        "\\left< \\psi | I_1 \\otimes I_2 | \\psi \\right> = 1\n",
        "\\end{align}\n",
        "We see here that contribution from $I_1 \\otimes I_2$ component is constant.\n",
        "\n",
        "For $Z_1 \\otimes Z_2$, using the fact that $Z\\left| 0 \\right> = +1 \\left| 0 \\right>$ and $Z\\left| 1 \\right> = -1 \\left| 1 \\right>$, \\\\\n",
        "\\begin{align}\n",
        "\\left< \\psi | Z_1 \\otimes Z_2 | \\psi \\right> = a^2-b^2-c^2+d^2\n",
        "\\end{align}\n",
        "We see here that contribution from $Z_1 \\otimes Z_2$ is equal to $\\frac{n_\\left| 00 \\right> - n_\\left| 01 \\right> - n_\\left| 10 \\right> + n_\\left| 11 \\right>}{N}$ where $N = \\Sigma n$ for all possible states.\n",
        "\n",
        "For $X_1 \\otimes X_2$, using the fact that $H\\left| + \\right> = \\left| 0 \\right>$ and $H\\left| - \\right> = \\left| 1 \\right>$, \\\\\n",
        "\\begin{align}\n",
        "\\left< \\psi | X_1 \\otimes X_2 | \\psi \\right> &= \\left< \\psi | (H_1 \\otimes H_2)^\\dagger (Z_1 \\otimes Z_2) (H_1 \\otimes H_2) | \\psi \\right> \\\\\n",
        "H &= \\frac{1}{\\sqrt{2}}\\begin{bmatrix} 1 & 1 \\\\ 1 & -1 \\end{bmatrix}\n",
        "\\end{align}\n",
        "After adding two-qubit equivalent of Hadamard gate, we can measure in an identical manner as we did for $Z_1 \\otimes Z_2$ contribution.\n",
        "\n",
        "For $Y_1 \\otimes Y_2$, using the fact that $G\\left| +i \\right> = \\left| 0 \\right>$ and $G\\left| -i \\right> = \\left| 1 \\right>$, \\\\\n",
        "\\begin{align}\n",
        "\\left< \\psi | Y_1 \\otimes Y_2 | \\psi \\right> &= \\left< \\psi | (G_1 \\otimes G_2)^\\dagger (Y_1 \\otimes Y_2) (G_1 \\otimes G_2) | \\psi \\right> \\\\\n",
        "G &= \\frac{1}{\\sqrt{2}}\\begin{bmatrix} 1 & -i \\\\ 1 & i \\end{bmatrix}\n",
        "\\end{align}\n",
        "After adding two-qubit equivalent of G gate, we can measure in an identical manner as we did for $Z_1 \\otimes Z_2$ contribution.\n",
        "\n",
        "In `Qiskit`, this is taken into account by using `U2Gate` object."
      ]
    },
    {
      "cell_type": "markdown",
      "metadata": {
        "id": "R_1zWAyaSKUO",
        "colab_type": "text"
      },
      "source": [
        "#### Ansatz\n",
        "\n",
        "Now, from the hint, ansatz can be declared as a circuit in Qiskit. Note that the ansatz was:\n",
        "\n",
        "\\begin{align}\n",
        "\\left | \\psi \\right> = (R_x(\\theta) \\otimes I)CX(H \\otimes I) \\left | 00 \\right>\n",
        "\\end{align}"
      ]
    },
    {
      "cell_type": "code",
      "metadata": {
        "id": "WncNXGkmTHmG",
        "colab_type": "code",
        "colab": {
          "base_uri": "https://localhost:8080/",
          "height": 125
        },
        "outputId": "f850d561-614d-432a-ee1d-aa4afe0e6c1e"
      },
      "source": [
        "# Put some value for theta for visualization\n",
        "theta = numpy.zeros((1))\n",
        "\n",
        "# Build up the circuit - quantum state\n",
        "qr = QuantumRegister(2)\n",
        "cr = ClassicalRegister(2)\n",
        "circuit = QuantumCircuit(qr, cr)\n",
        "\n",
        "circuit.h(circuit.qregs[0][0])\n",
        "circuit.cx(circuit.qregs[0][0], circuit.qregs[0][1])\n",
        "circuit.rx(theta, circuit.qregs[0][0])\n",
        "\n",
        "circuit.barrier()\n",
        "circuit.draw()"
      ],
      "execution_count": 5,
      "outputs": [
        {
          "output_type": "execute_result",
          "data": {
            "text/html": [
              "<pre style=\"word-wrap: normal;white-space: pre;background: #fff0;line-height: 1.1;font-family: &quot;Courier New&quot;,Courier,monospace\">      ┌───┐     ┌────┐ ░ \n",
              "q0_0: ┤ H ├──■──┤ RX ├─░─\n",
              "      └───┘┌─┴─┐└────┘ ░ \n",
              "q0_1: ─────┤ X ├───────░─\n",
              "           └───┘       ░ \n",
              "c0: 2/═══════════════════\n",
              "                         </pre>"
            ],
            "text/plain": [
              "      ┌───┐     ┌────┐ ░ \n",
              "q0_0: ┤ H ├──■──┤ RX ├─░─\n",
              "      └───┘┌─┴─┐└────┘ ░ \n",
              "q0_1: ─────┤ X ├───────░─\n",
              "           └───┘       ░ \n",
              "c0: 2/═══════════════════\n",
              "                         "
            ]
          },
          "metadata": {
            "tags": []
          },
          "execution_count": 5
        }
      ]
    },
    {
      "cell_type": "markdown",
      "metadata": {
        "id": "y9-4QYzXWonU",
        "colab_type": "text"
      },
      "source": [
        "Let's make this as a function so that theta can be given as an input."
      ]
    },
    {
      "cell_type": "code",
      "metadata": {
        "id": "me-Scv0sWh2Z",
        "colab_type": "code",
        "colab": {}
      },
      "source": [
        "def ansatz(theta):\n",
        "  \"\"\"\n",
        "  theta: angle passed on to R_x gate; float\n",
        "  \"\"\"\n",
        "  qr = QuantumRegister(2)\n",
        "  cr = ClassicalRegister(2)\n",
        "  circuit = QuantumCircuit(qr, cr)\n",
        "\n",
        "  circuit.h(circuit.qregs[0][0])\n",
        "  circuit.cx(circuit.qregs[0][0], circuit.qregs[0][1])\n",
        "  circuit.rx(theta, circuit.qregs[0][0])\n",
        "\n",
        "  circuit.barrier()\n",
        "\n",
        "  return circuit"
      ],
      "execution_count": 6,
      "outputs": []
    },
    {
      "cell_type": "markdown",
      "metadata": {
        "id": "5IUUW8fMXhvb",
        "colab_type": "text"
      },
      "source": [
        "#### Measurement of Circuits\n",
        "\n",
        "Now, using the information on how $XX$ and $YY$ can be measured, implement how they must be measured to obtain the simulated expectation values."
      ]
    },
    {
      "cell_type": "code",
      "metadata": {
        "id": "C0xhoLWhhwYl",
        "colab_type": "code",
        "colab": {}
      },
      "source": [
        "def count_results(result, N):\n",
        "  \"\"\"\n",
        "  Return the expectation number from the quantum circuit execution results\n",
        "  result: qiskit.result.result.Result instance\n",
        "  N:      total number of runs\n",
        "  \"\"\"\n",
        "  sum = 0.0\n",
        "  for key, val in result.get_counts().items():\n",
        "    if key == '00' or key == '11':\n",
        "      sum += val\n",
        "    elif key == '10' or key == '01':\n",
        "      sum -= val\n",
        "  return sum / N"
      ],
      "execution_count": 7,
      "outputs": []
    },
    {
      "cell_type": "code",
      "metadata": {
        "id": "eNfzy_ASYLmd",
        "colab_type": "code",
        "colab": {}
      },
      "source": [
        "def vqe(theta, n, backend = None):\n",
        "  \"\"\"\n",
        "  theta: angle passed on to R_x gate in ansatz -- this is the variational\n",
        "         parameter; float\n",
        "  n : number of iterations to run the quantum circuit\n",
        "  backend: backend to use for calculation; if nothing is provided, it assumes 'qasm_simulator'.\n",
        "\n",
        "  Given Hamiltonian is decomposed into:\n",
        "    (II-XX-YY+ZZ)/2\n",
        "  \"\"\"\n",
        "  if backend == None:\n",
        "    backend = Aer.get_backend('qasm_simulator')\n",
        "  energy = 0.0\n",
        "\n",
        "  # II term: constant\n",
        "  energy += 0.5\n",
        "\n",
        "  # XX term: H gate on both qubits before measurement\n",
        "  circuit = ansatz(theta)\n",
        "  circuit.u2(0, numpy.pi, circuit.qregs[0])\n",
        "  circuit.measure(circuit.qregs[0], circuit.cregs[0])\n",
        "\n",
        "  result = execute(circuit, backend = backend, shots = n).result()\n",
        "  energy -= 0.5 * count_results(result, n)\n",
        "\n",
        "  ## YY term: G gate on both qubits before measurement\n",
        "  circuit = ansatz(theta)\n",
        "  circuit.u2(0, numpy.pi/2, circuit.qregs[0])\n",
        "  circuit.measure(circuit.qregs[0], circuit.cregs[0])\n",
        "\n",
        "  result = execute(circuit, backend = backend, shots = n).result()\n",
        "  energy -= 0.5 * count_results(result, n)\n",
        "\n",
        "  ## ZZ term\n",
        "  circuit = ansatz(theta)\n",
        "  circuit.measure(circuit.qregs[0], circuit.cregs[0])\n",
        "\n",
        "  result = execute(circuit, backend = backend, shots = n).result()\n",
        "  energy += 0.5 * count_results(result, n)\n",
        "\n",
        "  # Return energy\n",
        "  return energy"
      ],
      "execution_count": 8,
      "outputs": []
    },
    {
      "cell_type": "markdown",
      "metadata": {
        "id": "Lp6VUN6KiaMx",
        "colab_type": "text"
      },
      "source": [
        "#### Running the Simulation\n",
        "\n",
        "Now, run the simulation on a range of $\\theta = [0, 2\\pi]$. The energies will be stored to obtain the minimum value."
      ]
    },
    {
      "cell_type": "code",
      "metadata": {
        "id": "82iT7ZLkb_Ef",
        "colab_type": "code",
        "colab": {
          "base_uri": "https://localhost:8080/",
          "height": 300
        },
        "outputId": "8ba0c785-b8f9-4eb5-a58e-3aa9503d2c26"
      },
      "source": [
        "# Run simulation and store results\n",
        "energy_list = []\n",
        "theta_list = numpy.linspace(0.0, 2 * numpy.pi, 360)\n",
        "for theta in theta_list:\n",
        "  energy_list.append(vqe(theta, 1e4))\n",
        "\n",
        "# Determine the minimum energy\n",
        "energy_min = numpy.min(energy_list)\n",
        "theta_min = theta_list[numpy.argmin(energy_list)]\n",
        "\n",
        "# Generate a plot\n",
        "plt.plot(theta_list, energy_list)\n",
        "plt.title(r\"$\\theta$-Expected energy (qasm_simulator)\")\n",
        "plt.xlabel(r\"$\\theta$ (rad)\")\n",
        "plt.ylabel(\"Expected energy\")\n",
        "plt.plot(theta_min, energy_min, 'ro')\n",
        "annot = \"({:.3f}, {:.3f})\".format(theta_min, energy_min)\n",
        "plt.annotate(annot, (theta_min, energy_min))\n",
        "plt.show()"
      ],
      "execution_count": 9,
      "outputs": [
        {
          "output_type": "display_data",
          "data": {
            "image/png": "[encoded data removed]",
            "text/plain": [
              "<Figure size 432x288 with 1 Axes>"
            ]
          },
          "metadata": {
            "tags": [],
            "needs_background": "light"
          }
        }
      ]
    },
    {
      "cell_type": "markdown",
      "metadata": {
        "id": "o7WPz65ZpVvF",
        "colab_type": "text"
      },
      "source": [
        "The results match with what is expected from running `numpy.linalg.eigvals` function as below."
      ]
    },
    {
      "cell_type": "code",
      "metadata": {
        "id": "9ouNxyHycrjd",
        "colab_type": "code",
        "colab": {
          "base_uri": "https://localhost:8080/",
          "height": 35
        },
        "outputId": "bc309058-9688-4594-8cd6-bfd7f2008b89"
      },
      "source": [
        "print(\"Smallest eigenvalue: {}\".format(numpy.linalg.eigvals(hamil).min()))"
      ],
      "execution_count": 10,
      "outputs": [
        {
          "output_type": "stream",
          "text": [
            "Smallest eigenvalue: -1.0\n"
          ],
          "name": "stdout"
        }
      ]
    }
  ]
}